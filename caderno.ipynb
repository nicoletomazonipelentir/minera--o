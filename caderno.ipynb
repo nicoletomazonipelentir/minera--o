{
 "cells": [
  {
   "cell_type": "markdown",
   "metadata": {},
   "source": [
    "limpeza para mineração, pré processamento"
   ]
  },
  {
   "cell_type": "code",
   "execution_count": 12,
   "metadata": {},
   "outputs": [],
   "source": [
    "#importando o divo master\n",
    "import pandas as pd"
   ]
  },
  {
   "cell_type": "code",
   "execution_count": 13,
   "metadata": {},
   "outputs": [
    {
     "data": {
      "text/html": [
       "<div>\n",
       "<style scoped>\n",
       "    .dataframe tbody tr th:only-of-type {\n",
       "        vertical-align: middle;\n",
       "    }\n",
       "\n",
       "    .dataframe tbody tr th {\n",
       "        vertical-align: top;\n",
       "    }\n",
       "\n",
       "    .dataframe thead th {\n",
       "        text-align: right;\n",
       "    }\n",
       "</style>\n",
       "<table border=\"1\" class=\"dataframe\">\n",
       "  <thead>\n",
       "    <tr style=\"text-align: right;\">\n",
       "      <th></th>\n",
       "      <th>id</th>\n",
       "      <th>idade</th>\n",
       "      <th>uf</th>\n",
       "      <th>renda</th>\n",
       "      <th>vacina</th>\n",
       "    </tr>\n",
       "  </thead>\n",
       "  <tbody>\n",
       "    <tr>\n",
       "      <th>0</th>\n",
       "      <td>1</td>\n",
       "      <td>15.0</td>\n",
       "      <td>SP</td>\n",
       "      <td>C</td>\n",
       "      <td>1</td>\n",
       "    </tr>\n",
       "    <tr>\n",
       "      <th>1</th>\n",
       "      <td>2</td>\n",
       "      <td>38.0</td>\n",
       "      <td>MG</td>\n",
       "      <td>NaN</td>\n",
       "      <td>0</td>\n",
       "    </tr>\n",
       "    <tr>\n",
       "      <th>2</th>\n",
       "      <td>3</td>\n",
       "      <td>49.0</td>\n",
       "      <td>RJ</td>\n",
       "      <td>C</td>\n",
       "      <td>0</td>\n",
       "    </tr>\n",
       "    <tr>\n",
       "      <th>3</th>\n",
       "      <td>4</td>\n",
       "      <td>71.0</td>\n",
       "      <td>BA</td>\n",
       "      <td>NaN</td>\n",
       "      <td>0</td>\n",
       "    </tr>\n",
       "    <tr>\n",
       "      <th>4</th>\n",
       "      <td>5</td>\n",
       "      <td>58.0</td>\n",
       "      <td>MG</td>\n",
       "      <td>D</td>\n",
       "      <td>1</td>\n",
       "    </tr>\n",
       "    <tr>\n",
       "      <th>5</th>\n",
       "      <td>6</td>\n",
       "      <td>26.0</td>\n",
       "      <td>SP</td>\n",
       "      <td>B</td>\n",
       "      <td>0</td>\n",
       "    </tr>\n",
       "    <tr>\n",
       "      <th>6</th>\n",
       "      <td>7</td>\n",
       "      <td>87.0</td>\n",
       "      <td>BA</td>\n",
       "      <td>NaN</td>\n",
       "      <td>1</td>\n",
       "    </tr>\n",
       "    <tr>\n",
       "      <th>7</th>\n",
       "      <td>8</td>\n",
       "      <td>56.0</td>\n",
       "      <td>MG</td>\n",
       "      <td>A</td>\n",
       "      <td>1</td>\n",
       "    </tr>\n",
       "    <tr>\n",
       "      <th>8</th>\n",
       "      <td>9</td>\n",
       "      <td>74.0</td>\n",
       "      <td>BA</td>\n",
       "      <td>NaN</td>\n",
       "      <td>0</td>\n",
       "    </tr>\n",
       "    <tr>\n",
       "      <th>9</th>\n",
       "      <td>10</td>\n",
       "      <td>54.0</td>\n",
       "      <td>SP</td>\n",
       "      <td>NaN</td>\n",
       "      <td>0</td>\n",
       "    </tr>\n",
       "  </tbody>\n",
       "</table>\n",
       "</div>"
      ],
      "text/plain": [
       "   id  idade  uf renda  vacina\n",
       "0   1   15.0  SP     C       1\n",
       "1   2   38.0  MG   NaN       0\n",
       "2   3   49.0  RJ     C       0\n",
       "3   4   71.0  BA   NaN       0\n",
       "4   5   58.0  MG     D       1\n",
       "5   6   26.0  SP     B       0\n",
       "6   7   87.0  BA   NaN       1\n",
       "7   8   56.0  MG     A       1\n",
       "8   9   74.0  BA   NaN       0\n",
       "9  10   54.0  SP   NaN       0"
      ]
     },
     "execution_count": 13,
     "metadata": {},
     "output_type": "execute_result"
    }
   ],
   "source": [
    "#url que contém 50 campos \n",
    "url='https://github.com/higoramario/univesp-com360-mineracao-dados/raw/main/dados-covid-limpeza.csv'\n",
    "\n",
    "#chamando o csv para virar um dataframe \n",
    "casos_covid=pd.read_csv(url)\n",
    "casos_covid.head(10)"
   ]
  },
  {
   "cell_type": "code",
   "execution_count": 14,
   "metadata": {},
   "outputs": [
    {
     "name": "stdout",
     "output_type": "stream",
     "text": [
      "<class 'pandas.core.frame.DataFrame'>\n",
      "RangeIndex: 50 entries, 0 to 49\n",
      "Data columns (total 5 columns):\n",
      " #   Column  Non-Null Count  Dtype  \n",
      "---  ------  --------------  -----  \n",
      " 0   id      50 non-null     int64  \n",
      " 1   idade   30 non-null     float64\n",
      " 2   uf      29 non-null     object \n",
      " 3   renda   31 non-null     object \n",
      " 4   vacina  50 non-null     int64  \n",
      "dtypes: float64(1), int64(2), object(2)\n",
      "memory usage: 2.1+ KB\n"
     ]
    }
   ],
   "source": [
    "#visualizar informações\n",
    "casos_covid.info()"
   ]
  },
  {
   "cell_type": "code",
   "execution_count": 15,
   "metadata": {},
   "outputs": [
    {
     "data": {
      "text/html": [
       "<div>\n",
       "<style scoped>\n",
       "    .dataframe tbody tr th:only-of-type {\n",
       "        vertical-align: middle;\n",
       "    }\n",
       "\n",
       "    .dataframe tbody tr th {\n",
       "        vertical-align: top;\n",
       "    }\n",
       "\n",
       "    .dataframe thead th {\n",
       "        text-align: right;\n",
       "    }\n",
       "</style>\n",
       "<table border=\"1\" class=\"dataframe\">\n",
       "  <thead>\n",
       "    <tr style=\"text-align: right;\">\n",
       "      <th></th>\n",
       "      <th>id</th>\n",
       "      <th>idade</th>\n",
       "      <th>vacina</th>\n",
       "    </tr>\n",
       "  </thead>\n",
       "  <tbody>\n",
       "    <tr>\n",
       "      <th>count</th>\n",
       "      <td>50.00000</td>\n",
       "      <td>30.000000</td>\n",
       "      <td>50.00000</td>\n",
       "    </tr>\n",
       "    <tr>\n",
       "      <th>mean</th>\n",
       "      <td>25.50000</td>\n",
       "      <td>48.666667</td>\n",
       "      <td>0.30000</td>\n",
       "    </tr>\n",
       "    <tr>\n",
       "      <th>std</th>\n",
       "      <td>14.57738</td>\n",
       "      <td>22.197131</td>\n",
       "      <td>0.46291</td>\n",
       "    </tr>\n",
       "    <tr>\n",
       "      <th>min</th>\n",
       "      <td>1.00000</td>\n",
       "      <td>14.000000</td>\n",
       "      <td>0.00000</td>\n",
       "    </tr>\n",
       "    <tr>\n",
       "      <th>25%</th>\n",
       "      <td>13.25000</td>\n",
       "      <td>33.500000</td>\n",
       "      <td>0.00000</td>\n",
       "    </tr>\n",
       "    <tr>\n",
       "      <th>50%</th>\n",
       "      <td>25.50000</td>\n",
       "      <td>48.500000</td>\n",
       "      <td>0.00000</td>\n",
       "    </tr>\n",
       "    <tr>\n",
       "      <th>75%</th>\n",
       "      <td>37.75000</td>\n",
       "      <td>61.000000</td>\n",
       "      <td>1.00000</td>\n",
       "    </tr>\n",
       "    <tr>\n",
       "      <th>max</th>\n",
       "      <td>50.00000</td>\n",
       "      <td>87.000000</td>\n",
       "      <td>1.00000</td>\n",
       "    </tr>\n",
       "  </tbody>\n",
       "</table>\n",
       "</div>"
      ],
      "text/plain": [
       "             id      idade    vacina\n",
       "count  50.00000  30.000000  50.00000\n",
       "mean   25.50000  48.666667   0.30000\n",
       "std    14.57738  22.197131   0.46291\n",
       "min     1.00000  14.000000   0.00000\n",
       "25%    13.25000  33.500000   0.00000\n",
       "50%    25.50000  48.500000   0.00000\n",
       "75%    37.75000  61.000000   1.00000\n",
       "max    50.00000  87.000000   1.00000"
      ]
     },
     "execution_count": 15,
     "metadata": {},
     "output_type": "execute_result"
    }
   ],
   "source": [
    "#descrever estatisticas sobre nossos dados para verificar o que está rolando\n",
    "casos_covid.describe()"
   ]
  },
  {
   "cell_type": "code",
   "execution_count": 16,
   "metadata": {},
   "outputs": [
    {
     "data": {
      "text/plain": [
       "uf\n",
       "SP    9\n",
       "MG    5\n",
       "BA    3\n",
       "RS    3\n",
       "RJ    2\n",
       "PE    2\n",
       "sp    1\n",
       "ce    1\n",
       "rj    1\n",
       "CE    1\n",
       "AM    1\n",
       "Name: count, dtype: int64"
      ]
     },
     "execution_count": 16,
     "metadata": {},
     "output_type": "execute_result"
    }
   ],
   "source": [
    "#contar quantidades de ocorrencias de ufs, para cada valor\n",
    "casos_covid['uf'].value_counts()"
   ]
  },
  {
   "cell_type": "code",
   "execution_count": null,
   "metadata": {},
   "outputs": [
    {
     "data": {
      "text/plain": [
       "uf\n",
       "SP    10\n",
       "MG     5\n",
       "RJ     3\n",
       "BA     3\n",
       "RS     3\n",
       "CE     2\n",
       "PE     2\n",
       "AM     1\n",
       "Name: count, dtype: int64"
      ]
     },
     "execution_count": 17,
     "metadata": {},
     "output_type": "execute_result"
    }
   ],
   "source": [
    "#existem valores iguais que estão com tamanho de fontes diferentes\n",
    "casos_covid['uf']=casos_covid['uf'].str.upper()\n",
    "\n",
    "#agora com as fontes arrumadas arrumadas\n",
    "casos_covid['uf'].value_counts()"
   ]
  },
  {
   "cell_type": "code",
   "execution_count": null,
   "metadata": {},
   "outputs": [
    {
     "data": {
      "text/plain": [
       "renda\n",
       "C    14\n",
       "D     7\n",
       "B     4\n",
       "A     3\n",
       "E     3\n",
       "Name: count, dtype: int64"
      ]
     },
     "execution_count": 18,
     "metadata": {},
     "output_type": "execute_result"
    }
   ],
   "source": [
    "#verificando a faixa de renda\n",
    "casos_covid['renda'].value_counts()"
   ]
  },
  {
   "cell_type": "code",
   "execution_count": null,
   "metadata": {},
   "outputs": [
    {
     "data": {
      "text/plain": [
       "vacina\n",
       "0    35\n",
       "1    15\n",
       "Name: count, dtype: int64"
      ]
     },
     "execution_count": 19,
     "metadata": {},
     "output_type": "execute_result"
    }
   ],
   "source": [
    "#verificando coluna vacinados\n",
    "casos_covid['vacina'].value_counts()"
   ]
  },
  {
   "cell_type": "code",
   "execution_count": null,
   "metadata": {},
   "outputs": [
    {
     "data": {
      "text/plain": [
       "idade\n",
       "49.0    21\n",
       "84.0     2\n",
       "26.0     2\n",
       "87.0     2\n",
       "54.0     2\n",
       "38.0     2\n",
       "61.0     2\n",
       "35.0     1\n",
       "33.0     1\n",
       "45.0     1\n",
       "57.0     1\n",
       "41.0     1\n",
       "20.0     1\n",
       "48.0     1\n",
       "37.0     1\n",
       "15.0     1\n",
       "68.0     1\n",
       "14.0     1\n",
       "22.0     1\n",
       "74.0     1\n",
       "56.0     1\n",
       "58.0     1\n",
       "71.0     1\n",
       "17.0     1\n",
       "Name: count, dtype: int64"
      ]
     },
     "execution_count": 24,
     "metadata": {},
     "output_type": "execute_result"
    }
   ],
   "source": [
    "#como faltam idades, usaremos a média, pode ser a mediana,mas usarei a média\n",
    "casos_covid['idade'] = casos_covid['idade'].fillna(round(casos_covid['idade'].mean()))\n",
    "\n",
    "#verificando as informações preenchidas\n",
    "casos_covid['idade'].value_counts()"
   ]
  },
  {
   "cell_type": "code",
   "execution_count": null,
   "metadata": {},
   "outputs": [
    {
     "name": "stderr",
     "output_type": "stream",
     "text": [
      "C:\\Users\\nicol\\AppData\\Local\\Temp\\ipykernel_21376\\3263548062.py:2: FutureWarning: Series.fillna with 'method' is deprecated and will raise in a future version. Use obj.ffill() or obj.bfill() instead.\n",
      "  casos_covid['uf'] = casos_covid['uf'].fillna(method='ffill')\n"
     ]
    },
    {
     "data": {
      "text/plain": [
       "uf\n",
       "SP    20\n",
       "RJ     6\n",
       "RS     6\n",
       "MG     5\n",
       "PE     5\n",
       "CE     4\n",
       "BA     3\n",
       "AM     1\n",
       "Name: count, dtype: int64"
      ]
     },
     "execution_count": 32,
     "metadata": {},
     "output_type": "execute_result"
    }
   ],
   "source": [
    "#agora, preencher os valores vazios do estado com o valor próximo válido\n",
    "casos_covid['uf'] = casos_covid['uf'].fillna(method='ffill')\n",
    "\n",
    "#fazendo a verificação que os dados forem preenchidos \n",
    "casos_covid['uf'].value_counts()"
   ]
  },
  {
   "cell_type": "code",
   "execution_count": 36,
   "metadata": {},
   "outputs": [
    {
     "name": "stderr",
     "output_type": "stream",
     "text": [
      "C:\\Users\\nicol\\AppData\\Local\\Temp\\ipykernel_21376\\3196557198.py:2: FutureWarning: Series.fillna with 'method' is deprecated and will raise in a future version. Use obj.ffill() or obj.bfill() instead.\n",
      "  casos_covid['renda'].fillna(method='bfill')\n"
     ]
    },
    {
     "data": {
      "text/plain": [
       "renda\n",
       "C    21\n",
       "D     9\n",
       "B     8\n",
       "A     7\n",
       "E     5\n",
       "Name: count, dtype: int64"
      ]
     },
     "execution_count": 36,
     "metadata": {},
     "output_type": "execute_result"
    }
   ],
   "source": [
    "#vai preencher com os dados válidos anteriores\n",
    "casos_covid['renda'].fillna(method='bfill')\n",
    "\n",
    "#fazendo a verificação da renda\n",
    "casos_covid['renda'].value_counts()"
   ]
  }
 ],
 "metadata": {
  "kernelspec": {
   "display_name": "Python 3",
   "language": "python",
   "name": "python3"
  },
  "language_info": {
   "codemirror_mode": {
    "name": "ipython",
    "version": 3
   },
   "file_extension": ".py",
   "mimetype": "text/x-python",
   "name": "python",
   "nbconvert_exporter": "python",
   "pygments_lexer": "ipython3",
   "version": "3.12.2"
  }
 },
 "nbformat": 4,
 "nbformat_minor": 2
}
